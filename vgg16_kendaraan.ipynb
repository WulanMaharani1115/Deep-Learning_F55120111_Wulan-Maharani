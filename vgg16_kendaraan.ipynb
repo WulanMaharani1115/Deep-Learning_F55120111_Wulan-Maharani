{
  "nbformat": 4,
  "nbformat_minor": 0,
  "metadata": {
    "colab": {
      "provenance": []
    },
    "kernelspec": {
      "name": "python3",
      "display_name": "Python 3"
    },
    "language_info": {
      "name": "python"
    }
  },
  "cells": [
    {
      "cell_type": "code",
      "execution_count": null,
      "metadata": {
        "id": "osdl41fNbJ7K"
      },
      "outputs": [],
      "source": [
        "import numpy as np\n",
        "import torch\n",
        "import matplotlib.pyplot as plt\n",
        "import tensorflow as tf\n",
        "from tensorflow.keras.preprocessing.image import ImageDataGenerator\n",
        "from tensorflow.keras.preprocessing import image\n",
        "import os"
      ]
    },
    {
      "cell_type": "code",
      "source": [
        "base_dir =  r'/content/car_and_bike/'\n",
        "folders = os.listdir(base_dir)\n",
        "print(folders)"
      ],
      "metadata": {
        "id": "94KBWhPvbW60"
      },
      "execution_count": null,
      "outputs": []
    },
    {
      "cell_type": "code",
      "source": [
        "train_datagen = ImageDataGenerator(rescale=1./255,\n",
        "    shear_range=0.2,\n",
        "    zoom_range=0.2,\n",
        "    horizontal_flip=True,\n",
        "    validation_split=0.2)\n",
        "\n",
        "train_generator = train_datagen.flow_from_directory(\n",
        "    base_dir,\n",
        "    target_size=(256 , 256),\n",
        "    batch_size= 32,\n",
        "    class_mode='categorical',\n",
        "    subset='training')\n",
        "\n",
        "validation_generator = train_datagen.flow_from_directory(\n",
        "    base_dir,\n",
        "    target_size=(256, 256),\n",
        "    batch_size= 32,\n",
        "    class_mode='categorical',\n",
        "    subset='validation')"
      ],
      "metadata": {
        "id": "-9yKQELPbc8E"
      },
      "execution_count": null,
      "outputs": []
    },
    {
      "cell_type": "code",
      "source": [
        "labels = (train_generator.class_indices)\n",
        "labels = dict((v , k) for k , v in labels.items())\n",
        "print(labels)"
      ],
      "metadata": {
        "id": "AM3-erdNbhqO"
      },
      "execution_count": null,
      "outputs": []
    },
    {
      "cell_type": "code",
      "source": [
        "base_model = tf.keras.applications.VGG19(input_shape=(256, 256,3),\n",
        "                                               include_top=False,\n",
        "                                               weights = \"imagenet\"\n",
        "                                               )\n",
        "base_model.trainable = False"
      ],
      "metadata": {
        "id": "Ypy4tnbAbjrm"
      },
      "execution_count": null,
      "outputs": []
    },
    {
      "cell_type": "code",
      "source": [
        "model_vgg = tf.keras.Sequential([\n",
        "    base_model,\n",
        "    tf.keras.layers.MaxPooling2D(),\n",
        "    tf.keras.layers.Flatten(),\n",
        "    tf.keras.layers.Dense(2, activation=\"softmax\")\n",
        "])\n",
        "\n",
        "model_vgg.compile(loss='categorical_crossentropy' , optimizer=tf.keras.optimizers.Adam(lr = 0.001) , metrics='accuracy')"
      ],
      "metadata": {
        "id": "kaCLDmunblly"
      },
      "execution_count": null,
      "outputs": []
    },
    {
      "cell_type": "code",
      "source": [
        "model_vgg.summary()"
      ],
      "metadata": {
        "id": "sj0BEZNhboE9"
      },
      "execution_count": null,
      "outputs": []
    },
    {
      "cell_type": "code",
      "source": [
        "hist_vgg = model_vgg.fit(train_generator ,\n",
        "          validation_data = validation_generator ,\n",
        "          epochs = 10 ,\n",
        "          steps_per_epoch = 3200/32, \n",
        "          validation_steps = 800/32, \n",
        "          )"
      ],
      "metadata": {
        "id": "7-fQKPGdbpOQ"
      },
      "execution_count": null,
      "outputs": []
    },
    {
      "cell_type": "code",
      "source": [
        "plt.plot(hist_vgg.history['accuracy'])\n",
        "plt.plot(hist_vgg.history['val_accuracy'])\n",
        "plt.title('Accuracy')\n",
        "plt.ylabel('Accuracy')\n",
        "plt.xlabel('Epoch')\n",
        "plt.legend(['train', 'test'])\n",
        "plt.show()"
      ],
      "metadata": {
        "id": "gHNE-Rojbqs_"
      },
      "execution_count": null,
      "outputs": []
    },
    {
      "cell_type": "code",
      "source": [
        "plt.plot(hist_vgg.history['loss'])\n",
        "plt.plot(hist_vgg.history['val_loss'])\n",
        "plt.title('Loss')\n",
        "plt.ylabel('Loss')\n",
        "plt.xlabel('Epoch')\n",
        "plt.legend(['train', 'test'])\n",
        "plt.show()"
      ],
      "metadata": {
        "id": "nK5n13x0br2G"
      },
      "execution_count": null,
      "outputs": []
    }
  ]
}